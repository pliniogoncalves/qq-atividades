{
  "cells": [
    {
      "cell_type": "markdown",
      "metadata": {
        "id": "kLHvabWlgz1p"
      },
      "source": [
        "1) Crie uma variável chamada x , com valor de 10 e printe-a."
      ]
    },
    {
      "cell_type": "code",
      "execution_count": 2,
      "metadata": {
        "colab": {
          "base_uri": "https://localhost:8080/"
        },
        "id": "sO9w8sQXhkep",
        "outputId": "6393183d-1c06-4916-ac92-e709815381cb"
      },
      "outputs": [
        {
          "name": "stdout",
          "output_type": "stream",
          "text": [
            "10\n"
          ]
        }
      ],
      "source": [
        "x = 10\n",
        "print(x)"
      ]
    },
    {
      "cell_type": "markdown",
      "metadata": {
        "id": "ITVAUX3Ag8jv"
      },
      "source": [
        "2) Eleve a variável x ao cubo e printe o resultado."
      ]
    },
    {
      "cell_type": "code",
      "execution_count": 3,
      "metadata": {
        "colab": {
          "base_uri": "https://localhost:8080/"
        },
        "id": "4yDvBL6EhuGA",
        "outputId": "c807f8a3-0348-4155-c269-d803a9140001"
      },
      "outputs": [
        {
          "name": "stdout",
          "output_type": "stream",
          "text": [
            "1000\n"
          ]
        }
      ],
      "source": [
        "x = x**3\n",
        "print(x)"
      ]
    },
    {
      "cell_type": "markdown",
      "metadata": {
        "id": "pW5YYIaohAI9"
      },
      "source": [
        "3) Some o primeiro e o terceiro valor da lista [1,2,3,4,5] e printe a resposta"
      ]
    },
    {
      "cell_type": "code",
      "execution_count": 4,
      "metadata": {
        "colab": {
          "base_uri": "https://localhost:8080/"
        },
        "id": "aKnX6DU9iE_6",
        "outputId": "3cff2b53-2bd2-4554-9467-86fe3bdeaf19"
      },
      "outputs": [
        {
          "name": "stdout",
          "output_type": "stream",
          "text": [
            "4\n"
          ]
        }
      ],
      "source": [
        "lista = [1,2,3,4,5]\n",
        "soma = lista[0] + lista[2]\n",
        "print(soma)"
      ]
    },
    {
      "cell_type": "markdown",
      "metadata": {
        "id": "6Iy9aP8LhCuL"
      },
      "source": [
        "4) Crie uma variável com o valor '0123456789' (em formato de string), e printe:\n",
        "\n",
        "    a) Do 3º caractere em diante\n",
        "    \n",
        "    b) Do primeiro ao 5º caractere\n",
        "    \n",
        "    c) Do 3º ao 6º caractere\n",
        "    \n",
        "    d) O último caractere da string\n",
        "    \n",
        "    e) O penúltimo caractere da string"
      ]
    },
    {
      "cell_type": "code",
      "execution_count": 5,
      "metadata": {
        "id": "MGIhUiU6jUrf"
      },
      "outputs": [],
      "source": [
        "y = '0123456789'"
      ]
    },
    {
      "cell_type": "markdown",
      "metadata": {
        "id": "MOG3eqEAjJDV"
      },
      "source": [
        "a) Do 3º caractere em diante"
      ]
    },
    {
      "cell_type": "code",
      "execution_count": 6,
      "metadata": {
        "colab": {
          "base_uri": "https://localhost:8080/"
        },
        "id": "1dD1NFxjjESX",
        "outputId": "0a11a075-05bc-4900-c6c0-83223f702968"
      },
      "outputs": [
        {
          "name": "stdout",
          "output_type": "stream",
          "text": [
            "23456789\n"
          ]
        }
      ],
      "source": [
        "print(y[2:])"
      ]
    },
    {
      "cell_type": "markdown",
      "metadata": {
        "id": "KaCkdkDmjoTa"
      },
      "source": [
        "b) Do primeiro ao 5º caractere\n"
      ]
    },
    {
      "cell_type": "code",
      "execution_count": 7,
      "metadata": {
        "colab": {
          "base_uri": "https://localhost:8080/"
        },
        "id": "QZ9OBP7tjn3D",
        "outputId": "4f4269a4-d028-4e76-e50d-7fe69c5a82a5"
      },
      "outputs": [
        {
          "name": "stdout",
          "output_type": "stream",
          "text": [
            "01234\n"
          ]
        }
      ],
      "source": [
        "print(y[:5])"
      ]
    },
    {
      "cell_type": "markdown",
      "metadata": {
        "id": "kR5KpwPRj-Wg"
      },
      "source": [
        "c) Do 3º ao 6º caractere\n"
      ]
    },
    {
      "cell_type": "code",
      "execution_count": 8,
      "metadata": {
        "colab": {
          "base_uri": "https://localhost:8080/"
        },
        "id": "AJbT7fA7kRfz",
        "outputId": "4b5a3ce3-61e3-4ca2-8d1a-4c2f61b87266"
      },
      "outputs": [
        {
          "name": "stdout",
          "output_type": "stream",
          "text": [
            "2345\n"
          ]
        }
      ],
      "source": [
        "print(y[2:6])"
      ]
    },
    {
      "cell_type": "markdown",
      "metadata": {
        "id": "kveEprgakgcd"
      },
      "source": [
        "d) O último caractere da string"
      ]
    },
    {
      "cell_type": "code",
      "execution_count": 9,
      "metadata": {
        "colab": {
          "base_uri": "https://localhost:8080/"
        },
        "id": "txxs8v3JkiTj",
        "outputId": "a73c079d-fa5a-4286-927a-f8006c858f56"
      },
      "outputs": [
        {
          "name": "stdout",
          "output_type": "stream",
          "text": [
            "9\n"
          ]
        }
      ],
      "source": [
        "print(y[-1])"
      ]
    },
    {
      "cell_type": "markdown",
      "metadata": {
        "id": "TCM5JhCsk0aQ"
      },
      "source": [
        "e) O penúltimo caractere da string"
      ]
    },
    {
      "cell_type": "code",
      "execution_count": 10,
      "metadata": {
        "colab": {
          "base_uri": "https://localhost:8080/"
        },
        "id": "eGcanlajlCNU",
        "outputId": "05beb5fa-c2c1-490b-f161-1bdc66645ff9"
      },
      "outputs": [
        {
          "name": "stdout",
          "output_type": "stream",
          "text": [
            "8\n"
          ]
        }
      ],
      "source": [
        "print(y[-2])"
      ]
    },
    {
      "cell_type": "markdown",
      "metadata": {
        "id": "Q0C4bclohIYk"
      },
      "source": [
        "5) Crie um dicionário que contenha como chave os valores da Coluna 1, e como valores, os valores da Coluna 2.\n",
        "\n",
        "|Coluna 1| Coluna 2|\n",
        "|--------|---------|\n",
        "| a      |   1     |\n",
        "| b      |   2     |\n",
        "| c      |   3     |\n",
        "| d      |   4     |\n",
        "| e      |   5     |\n",
        "\n",
        "Após criado printe os valores das chaves \"b\" e \"e\"."
      ]
    },
    {
      "cell_type": "markdown",
      "metadata": {
        "id": "oq7FedpWhfD3"
      },
      "source": []
    },
    {
      "cell_type": "code",
      "execution_count": 11,
      "metadata": {
        "colab": {
          "base_uri": "https://localhost:8080/"
        },
        "id": "eayceMu0g635",
        "outputId": "53b9dfba-f655-4b2a-ff2b-9d2f36476cfc"
      },
      "outputs": [
        {
          "name": "stdout",
          "output_type": "stream",
          "text": [
            "2\n",
            "5\n"
          ]
        }
      ],
      "source": [
        "dicionario = {\n",
        "    'a': 1,\n",
        "    'b': 2,\n",
        "    'c': 3,\n",
        "    'd': 4,\n",
        "    'e': 5\n",
        "}\n",
        "print(dicionario['b'])\n",
        "print(dicionario['e'])\n"
      ]
    }
  ],
  "metadata": {
    "colab": {
      "provenance": []
    },
    "kernelspec": {
      "display_name": "Python 3",
      "name": "python3"
    },
    "language_info": {
      "codemirror_mode": {
        "name": "ipython",
        "version": 3
      },
      "file_extension": ".py",
      "mimetype": "text/x-python",
      "name": "python",
      "nbconvert_exporter": "python",
      "pygments_lexer": "ipython3",
      "version": "3.12.6"
    }
  },
  "nbformat": 4,
  "nbformat_minor": 0
}
